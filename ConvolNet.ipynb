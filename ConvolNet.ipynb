{
 "cells": [
  {
   "cell_type": "code",
   "execution_count": 4,
   "metadata": {},
   "outputs": [],
   "source": [
    "#This is ConvNet\n",
    "\n",
    "import keras\n",
    "from keras.datasets import mnist\n",
    "from keras.models import Sequential\n",
    "from keras.layers import Dense, Dropout, Flatten, Activation\n",
    "from keras.layers import Conv2D, MaxPooling2D\n",
    "import numpy as np"
   ]
  },
  {
   "cell_type": "code",
   "execution_count": 2,
   "metadata": {},
   "outputs": [
    {
     "name": "stdout",
     "output_type": "stream",
     "text": [
      "x_train shape: (60000, 28, 28, 1)\n",
      "60000 train samples\n",
      "10000 test samples\n"
     ]
    }
   ],
   "source": [
    "batch_size = 128\n",
    "num_classes = 10\n",
    "epochs = 1\n",
    "\n",
    "# input image dimensions\n",
    "img_rows, img_cols = 28, 28\n",
    "\n",
    "# the data, split between train and test sets\n",
    "(x_train, y_train), (x_test, y_test) = mnist.load_data()\n",
    "\n",
    "x_train = x_train.reshape(60000,28,28,1)\n",
    "x_test = x_test.reshape(10000,28,28,1)\n",
    "\n",
    "print('x_train shape:', x_train.shape)\n",
    "print(x_train.shape[0], 'train samples')\n",
    "print(x_test.shape[0], 'test samples')\n",
    "\n",
    "# convert class vectors to binary class matrices\n",
    "y_train = keras.utils.to_categorical(y_train, num_classes)\n",
    "y_test = keras.utils.to_categorical(y_test, num_classes)"
   ]
  },
  {
   "cell_type": "code",
   "execution_count": 15,
   "metadata": {},
   "outputs": [],
   "source": [
    "# CONV MODEL\n",
    "#############\n",
    "\n",
    "model = Sequential()\n",
    "model.add(Conv2D(32, kernel_size=(3, 3),\n",
    "                 activation='relu',\n",
    "                 input_shape=(28,28,1)))\n",
    "model.add(Conv2D(64, (3, 3), activation='relu'))\n",
    "model.add(MaxPooling2D(pool_size=(2, 2)))\n",
    "model.add(Dropout(0.25))\n",
    "model.add(Flatten())\n",
    "model.add(Dense(128, activation='relu'))\n",
    "model.add(Dropout(0.5))\n",
    "model.add(Dense(num_classes, activation='softmax'))"
   ]
  },
  {
   "cell_type": "code",
   "execution_count": 17,
   "metadata": {},
   "outputs": [
    {
     "name": "stdout",
     "output_type": "stream",
     "text": [
      "Train on 60000 samples, validate on 10000 samples\n",
      "Epoch 1/1\n",
      "60000/60000 [==============================] - 406s 7ms/step - loss: 0.1181 - acc: 0.9668 - val_loss: 0.0450 - val_acc: 0.9854\n",
      "Test loss: 0.04504286941485188\n",
      "Test accuracy: 0.9854\n"
     ]
    }
   ],
   "source": [
    "model.compile(loss=keras.losses.categorical_crossentropy,\n",
    "              optimizer=keras.optimizers.Adadelta(),\n",
    "              metrics=['accuracy'])\n",
    "\n",
    "model.fit(x_train, y_train,\n",
    "          batch_size=batch_size,\n",
    "          epochs=epochs,\n",
    "          verbose=1,\n",
    "          validation_data=(x_test, y_test))\n",
    "score = model.evaluate(x_test, y_test, verbose=0)\n",
    "print('Test loss:', score[0])\n",
    "print('Test accuracy:', score[1])"
   ]
  },
  {
   "cell_type": "code",
   "execution_count": 16,
   "metadata": {},
   "outputs": [
    {
     "name": "stdout",
     "output_type": "stream",
     "text": [
      "X_train shape (60000, 28, 28)\n",
      "y_train shape (60000,)\n",
      "X_test shape (10000, 28, 28)\n",
      "y_test shape (10000,)\n",
      "Train matrix shape (60000, 784)\n",
      "Test matrix shape (10000, 784)\n"
     ]
    }
   ],
   "source": [
    "#MULTI PERCEPTRON\n",
    "#########################################33\n",
    "\n",
    "(X_train, y_train), (X_test, y_test) = mnist.load_data()\n",
    "# let's print the shape before we reshape and normalize\n",
    "print(\"X_train shape\", X_train.shape)\n",
    "print(\"y_train shape\", y_train.shape)\n",
    "print(\"X_test shape\", X_test.shape)\n",
    "print(\"y_test shape\", y_test.shape)\n",
    "\n",
    "# building the input vector from the 28x28 pixels\n",
    "X_train = X_train.reshape(60000, 784)\n",
    "X_test = X_test.reshape(10000, 784)\n",
    "X_train = X_train.astype('float32')\n",
    "X_test = X_test.astype('float32')\n",
    "\n",
    "# normalizing the data to help with the training\n",
    "X_train /= 255\n",
    "X_test /= 255\n",
    "\n",
    "# print the final input shape ready for training\n",
    "print(\"Train matrix shape\", X_train.shape)\n",
    "print(\"Test matrix shape\", X_test.shape)"
   ]
  },
  {
   "cell_type": "code",
   "execution_count": 17,
   "metadata": {},
   "outputs": [
    {
     "name": "stdout",
     "output_type": "stream",
     "text": [
      "Shape before one-hot encoding:  (60000,)\n",
      "Shape after one-hot encoding:  (60000, 10)\n"
     ]
    }
   ],
   "source": [
    "n_classes = 10\n",
    "print(\"Shape before one-hot encoding: \", y_train.shape)\n",
    "Y_train = keras.utils.to_categorical(y_train, n_classes)\n",
    "Y_test = keras.utils.to_categorical(y_test, n_classes)\n",
    "print(\"Shape after one-hot encoding: \", Y_train.shape)"
   ]
  },
  {
   "cell_type": "code",
   "execution_count": 21,
   "metadata": {},
   "outputs": [],
   "source": [
    "\n",
    "# building a linear stack of layers with the sequential model\n",
    "model = Sequential()\n",
    "model.add(Dense(512, input_shape=(784,)))\n",
    "model.add(Activation('relu'))                            \n",
    "model.add(Dropout(0.2))\n",
    "\n",
    "model.add(Dense(512))\n",
    "model.add(Activation('relu'))\n",
    "model.add(Dropout(0.2))\n",
    "\n",
    "model.add(Dense(10))\n",
    "model.add(Activation('softmax'))"
   ]
  },
  {
   "cell_type": "code",
   "execution_count": 22,
   "metadata": {},
   "outputs": [],
   "source": [
    "# compiling the sequential model\n",
    "model.compile(loss='categorical_crossentropy', metrics=['accuracy'], optimizer='adam')\n",
    "\n"
   ]
  },
  {
   "cell_type": "code",
   "execution_count": 24,
   "metadata": {},
   "outputs": [
    {
     "name": "stdout",
     "output_type": "stream",
     "text": [
      "Train on 60000 samples, validate on 10000 samples\n",
      "Epoch 1/20\n",
      " - 28s - loss: 0.2453 - acc: 0.9264 - val_loss: 0.1028 - val_acc: 0.9683\n",
      "Epoch 2/20\n",
      " - 24s - loss: 0.0997 - acc: 0.9688 - val_loss: 0.0785 - val_acc: 0.9738\n",
      "Epoch 3/20\n",
      " - 25s - loss: 0.0687 - acc: 0.9785 - val_loss: 0.0696 - val_acc: 0.9782\n",
      "Epoch 4/20\n",
      " - 26s - loss: 0.0539 - acc: 0.9829 - val_loss: 0.0678 - val_acc: 0.9792\n",
      "Epoch 5/20\n",
      " - 24s - loss: 0.0447 - acc: 0.9854 - val_loss: 0.0636 - val_acc: 0.9805\n",
      "Epoch 6/20\n",
      " - 24s - loss: 0.0391 - acc: 0.9871 - val_loss: 0.0586 - val_acc: 0.9835\n",
      "Epoch 7/20\n",
      " - 25s - loss: 0.0325 - acc: 0.9893 - val_loss: 0.0737 - val_acc: 0.9785\n",
      "Epoch 8/20\n",
      " - 27s - loss: 0.0316 - acc: 0.9895 - val_loss: 0.0647 - val_acc: 0.9823\n",
      "Epoch 9/20\n",
      " - 30s - loss: 0.0282 - acc: 0.9905 - val_loss: 0.0685 - val_acc: 0.9816\n",
      "Epoch 10/20\n",
      " - 30s - loss: 0.0262 - acc: 0.9911 - val_loss: 0.0667 - val_acc: 0.9823\n",
      "Epoch 11/20\n",
      " - 26s - loss: 0.0224 - acc: 0.9926 - val_loss: 0.0732 - val_acc: 0.9808\n",
      "Epoch 12/20\n",
      " - 31s - loss: 0.0232 - acc: 0.9920 - val_loss: 0.0652 - val_acc: 0.9825\n",
      "Epoch 13/20\n",
      " - 24s - loss: 0.0213 - acc: 0.9929 - val_loss: 0.0623 - val_acc: 0.9847\n",
      "Epoch 14/20\n",
      " - 27s - loss: 0.0148 - acc: 0.9950 - val_loss: 0.0709 - val_acc: 0.9830\n",
      "Epoch 15/20\n",
      " - 29s - loss: 0.0197 - acc: 0.9934 - val_loss: 0.0678 - val_acc: 0.9826\n",
      "Epoch 16/20\n",
      " - 32s - loss: 0.0191 - acc: 0.9937 - val_loss: 0.0795 - val_acc: 0.9811\n",
      "Epoch 17/20\n",
      " - 32s - loss: 0.0166 - acc: 0.9945 - val_loss: 0.0792 - val_acc: 0.9825\n",
      "Epoch 18/20\n",
      " - 29s - loss: 0.0153 - acc: 0.9948 - val_loss: 0.0755 - val_acc: 0.9834\n",
      "Epoch 19/20\n",
      " - 25s - loss: 0.0151 - acc: 0.9952 - val_loss: 0.0800 - val_acc: 0.9813\n",
      "Epoch 20/20\n",
      " - 24s - loss: 0.0168 - acc: 0.9945 - val_loss: 0.0867 - val_acc: 0.9817\n"
     ]
    }
   ],
   "source": [
    "history = model.fit(X_train, Y_train,\n",
    "          batch_size=128, epochs=20,\n",
    "          verbose=2,\n",
    "          validation_data=(X_test, Y_test))"
   ]
  },
  {
   "cell_type": "code",
   "execution_count": null,
   "metadata": {},
   "outputs": [],
   "source": []
  }
 ],
 "metadata": {
  "kernelspec": {
   "display_name": "Python 3",
   "language": "python",
   "name": "python3"
  },
  "language_info": {
   "codemirror_mode": {
    "name": "ipython",
    "version": 3
   },
   "file_extension": ".py",
   "mimetype": "text/x-python",
   "name": "python",
   "nbconvert_exporter": "python",
   "pygments_lexer": "ipython3",
   "version": "3.6.4"
  }
 },
 "nbformat": 4,
 "nbformat_minor": 2
}
